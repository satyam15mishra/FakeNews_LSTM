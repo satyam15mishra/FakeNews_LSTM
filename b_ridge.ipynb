{
  "nbformat": 4,
  "nbformat_minor": 0,
  "metadata": {
    "kernelspec": {
      "display_name": "Python 3",
      "language": "python",
      "name": "python3"
    },
    "language_info": {
      "codemirror_mode": {
        "name": "ipython",
        "version": 3
      },
      "file_extension": ".py",
      "mimetype": "text/x-python",
      "name": "python",
      "nbconvert_exporter": "python",
      "pygments_lexer": "ipython3",
      "version": "3.6.9"
    },
    "colab": {
      "name": "hacker.ipynb",
      "provenance": [],
      "collapsed_sections": []
    },
    "accelerator": "GPU"
  },
  "cells": [
    {
      "cell_type": "markdown",
      "metadata": {
        "id": "ZH9wa7a066Tp",
        "colab_type": "text"
      },
      "source": [
        "Fine Tuned Bayesian Ridge. Didn't Drop 'Time_of_service' column."
      ]
    },
    {
      "cell_type": "code",
      "metadata": {
        "id": "pCyzm5Mj0x0j",
        "colab_type": "code",
        "colab": {}
      },
      "source": [
        "import numpy as np\n",
        "import pandas as pd"
      ],
      "execution_count": 1,
      "outputs": []
    },
    {
      "cell_type": "code",
      "metadata": {
        "id": "de9H0yq601q8",
        "colab_type": "code",
        "colab": {}
      },
      "source": [
        "train_data = pd.read_csv(\"Train.csv\")\n",
        "test_data = pd.read_csv(\"Test.csv\")\n",
        "trndata = train_data\n",
        "tstdata = test_data"
      ],
      "execution_count": 2,
      "outputs": []
    },
    {
      "cell_type": "code",
      "metadata": {
        "id": "sMQ5HFkt1M1p",
        "colab_type": "code",
        "colab": {
          "base_uri": "https://localhost:8080/",
          "height": 132
        },
        "outputId": "cab0a45a-faf1-4692-e7ca-9a73e5be0c23"
      },
      "source": [
        "train_data.head(2)"
      ],
      "execution_count": 3,
      "outputs": [
        {
          "output_type": "execute_result",
          "data": {
            "text/html": [
              "<div>\n",
              "<style scoped>\n",
              "    .dataframe tbody tr th:only-of-type {\n",
              "        vertical-align: middle;\n",
              "    }\n",
              "\n",
              "    .dataframe tbody tr th {\n",
              "        vertical-align: top;\n",
              "    }\n",
              "\n",
              "    .dataframe thead th {\n",
              "        text-align: right;\n",
              "    }\n",
              "</style>\n",
              "<table border=\"1\" class=\"dataframe\">\n",
              "  <thead>\n",
              "    <tr style=\"text-align: right;\">\n",
              "      <th></th>\n",
              "      <th>Employee_ID</th>\n",
              "      <th>Gender</th>\n",
              "      <th>Age</th>\n",
              "      <th>Education_Level</th>\n",
              "      <th>Relationship_Status</th>\n",
              "      <th>Hometown</th>\n",
              "      <th>Unit</th>\n",
              "      <th>Decision_skill_possess</th>\n",
              "      <th>Time_of_service</th>\n",
              "      <th>Time_since_promotion</th>\n",
              "      <th>growth_rate</th>\n",
              "      <th>Travel_Rate</th>\n",
              "      <th>Post_Level</th>\n",
              "      <th>Pay_Scale</th>\n",
              "      <th>Compensation_and_Benefits</th>\n",
              "      <th>Work_Life_balance</th>\n",
              "      <th>VAR1</th>\n",
              "      <th>VAR2</th>\n",
              "      <th>VAR3</th>\n",
              "      <th>VAR4</th>\n",
              "      <th>VAR5</th>\n",
              "      <th>VAR6</th>\n",
              "      <th>VAR7</th>\n",
              "      <th>Attrition_rate</th>\n",
              "    </tr>\n",
              "  </thead>\n",
              "  <tbody>\n",
              "    <tr>\n",
              "      <th>0</th>\n",
              "      <td>EID_23371</td>\n",
              "      <td>F</td>\n",
              "      <td>42.0</td>\n",
              "      <td>4</td>\n",
              "      <td>Married</td>\n",
              "      <td>Franklin</td>\n",
              "      <td>IT</td>\n",
              "      <td>Conceptual</td>\n",
              "      <td>4.0</td>\n",
              "      <td>4</td>\n",
              "      <td>33</td>\n",
              "      <td>1</td>\n",
              "      <td>1</td>\n",
              "      <td>7.0</td>\n",
              "      <td>type2</td>\n",
              "      <td>3.0</td>\n",
              "      <td>4</td>\n",
              "      <td>0.7516</td>\n",
              "      <td>1.8688</td>\n",
              "      <td>2.0</td>\n",
              "      <td>4</td>\n",
              "      <td>5</td>\n",
              "      <td>3</td>\n",
              "      <td>0.1841</td>\n",
              "    </tr>\n",
              "    <tr>\n",
              "      <th>1</th>\n",
              "      <td>EID_18000</td>\n",
              "      <td>M</td>\n",
              "      <td>24.0</td>\n",
              "      <td>3</td>\n",
              "      <td>Single</td>\n",
              "      <td>Springfield</td>\n",
              "      <td>Logistics</td>\n",
              "      <td>Analytical</td>\n",
              "      <td>5.0</td>\n",
              "      <td>4</td>\n",
              "      <td>36</td>\n",
              "      <td>0</td>\n",
              "      <td>3</td>\n",
              "      <td>6.0</td>\n",
              "      <td>type2</td>\n",
              "      <td>4.0</td>\n",
              "      <td>3</td>\n",
              "      <td>-0.9612</td>\n",
              "      <td>-0.4537</td>\n",
              "      <td>2.0</td>\n",
              "      <td>3</td>\n",
              "      <td>5</td>\n",
              "      <td>3</td>\n",
              "      <td>0.0670</td>\n",
              "    </tr>\n",
              "  </tbody>\n",
              "</table>\n",
              "</div>"
            ],
            "text/plain": [
              "  Employee_ID Gender   Age  Education_Level  ... VAR5 VAR6 VAR7 Attrition_rate\n",
              "0   EID_23371      F  42.0                4  ...    4    5    3         0.1841\n",
              "1   EID_18000      M  24.0                3  ...    3    5    3         0.0670\n",
              "\n",
              "[2 rows x 24 columns]"
            ]
          },
          "metadata": {
            "tags": []
          },
          "execution_count": 3
        }
      ]
    },
    {
      "cell_type": "code",
      "metadata": {
        "id": "K-KRbg4a6btU",
        "colab_type": "code",
        "colab": {
          "base_uri": "https://localhost:8080/",
          "height": 451
        },
        "outputId": "d44c9918-71cb-406d-9dd2-e94f6d60da95"
      },
      "source": [
        "train_data.isnull().sum()"
      ],
      "execution_count": null,
      "outputs": [
        {
          "output_type": "execute_result",
          "data": {
            "text/plain": [
              "Employee_ID                    0\n",
              "Gender                         0\n",
              "Age                          412\n",
              "Education_Level                0\n",
              "Relationship_Status            0\n",
              "Hometown                       0\n",
              "Unit                           0\n",
              "Decision_skill_possess         0\n",
              "Time_of_service              144\n",
              "Time_since_promotion           0\n",
              "growth_rate                    0\n",
              "Travel_Rate                    0\n",
              "Post_Level                     0\n",
              "Pay_Scale                      9\n",
              "Compensation_and_Benefits      0\n",
              "Work_Life_balance             11\n",
              "VAR1                           0\n",
              "VAR2                         577\n",
              "VAR3                           0\n",
              "VAR4                         656\n",
              "VAR5                           0\n",
              "VAR6                           0\n",
              "VAR7                           0\n",
              "Attrition_rate                 0\n",
              "dtype: int64"
            ]
          },
          "metadata": {
            "tags": []
          },
          "execution_count": 4
        }
      ]
    },
    {
      "cell_type": "code",
      "metadata": {
        "id": "QOVJb63iL8MA",
        "colab_type": "code",
        "colab": {}
      },
      "source": [
        "# train_data = train_data.drop('Time_of_service',1)\n",
        "# test_data = test_data.drop('Time_of_service',1)"
      ],
      "execution_count": null,
      "outputs": []
    },
    {
      "cell_type": "code",
      "metadata": {
        "id": "8UCiS172QQeT",
        "colab_type": "code",
        "colab": {
          "base_uri": "https://localhost:8080/",
          "height": 418
        },
        "outputId": "f6d38614-019c-4e71-d418-e0ea9889bb07"
      },
      "source": [
        "train_data.head(10)"
      ],
      "execution_count": 4,
      "outputs": [
        {
          "output_type": "execute_result",
          "data": {
            "text/html": [
              "<div>\n",
              "<style scoped>\n",
              "    .dataframe tbody tr th:only-of-type {\n",
              "        vertical-align: middle;\n",
              "    }\n",
              "\n",
              "    .dataframe tbody tr th {\n",
              "        vertical-align: top;\n",
              "    }\n",
              "\n",
              "    .dataframe thead th {\n",
              "        text-align: right;\n",
              "    }\n",
              "</style>\n",
              "<table border=\"1\" class=\"dataframe\">\n",
              "  <thead>\n",
              "    <tr style=\"text-align: right;\">\n",
              "      <th></th>\n",
              "      <th>Employee_ID</th>\n",
              "      <th>Gender</th>\n",
              "      <th>Age</th>\n",
              "      <th>Education_Level</th>\n",
              "      <th>Relationship_Status</th>\n",
              "      <th>Hometown</th>\n",
              "      <th>Unit</th>\n",
              "      <th>Decision_skill_possess</th>\n",
              "      <th>Time_of_service</th>\n",
              "      <th>Time_since_promotion</th>\n",
              "      <th>growth_rate</th>\n",
              "      <th>Travel_Rate</th>\n",
              "      <th>Post_Level</th>\n",
              "      <th>Pay_Scale</th>\n",
              "      <th>Compensation_and_Benefits</th>\n",
              "      <th>Work_Life_balance</th>\n",
              "      <th>VAR1</th>\n",
              "      <th>VAR2</th>\n",
              "      <th>VAR3</th>\n",
              "      <th>VAR4</th>\n",
              "      <th>VAR5</th>\n",
              "      <th>VAR6</th>\n",
              "      <th>VAR7</th>\n",
              "      <th>Attrition_rate</th>\n",
              "    </tr>\n",
              "  </thead>\n",
              "  <tbody>\n",
              "    <tr>\n",
              "      <th>0</th>\n",
              "      <td>EID_23371</td>\n",
              "      <td>F</td>\n",
              "      <td>42.0</td>\n",
              "      <td>4</td>\n",
              "      <td>Married</td>\n",
              "      <td>Franklin</td>\n",
              "      <td>IT</td>\n",
              "      <td>Conceptual</td>\n",
              "      <td>4.0</td>\n",
              "      <td>4</td>\n",
              "      <td>33</td>\n",
              "      <td>1</td>\n",
              "      <td>1</td>\n",
              "      <td>7.0</td>\n",
              "      <td>type2</td>\n",
              "      <td>3.0</td>\n",
              "      <td>4</td>\n",
              "      <td>0.7516</td>\n",
              "      <td>1.8688</td>\n",
              "      <td>2.0</td>\n",
              "      <td>4</td>\n",
              "      <td>5</td>\n",
              "      <td>3</td>\n",
              "      <td>0.1841</td>\n",
              "    </tr>\n",
              "    <tr>\n",
              "      <th>1</th>\n",
              "      <td>EID_18000</td>\n",
              "      <td>M</td>\n",
              "      <td>24.0</td>\n",
              "      <td>3</td>\n",
              "      <td>Single</td>\n",
              "      <td>Springfield</td>\n",
              "      <td>Logistics</td>\n",
              "      <td>Analytical</td>\n",
              "      <td>5.0</td>\n",
              "      <td>4</td>\n",
              "      <td>36</td>\n",
              "      <td>0</td>\n",
              "      <td>3</td>\n",
              "      <td>6.0</td>\n",
              "      <td>type2</td>\n",
              "      <td>4.0</td>\n",
              "      <td>3</td>\n",
              "      <td>-0.9612</td>\n",
              "      <td>-0.4537</td>\n",
              "      <td>2.0</td>\n",
              "      <td>3</td>\n",
              "      <td>5</td>\n",
              "      <td>3</td>\n",
              "      <td>0.0670</td>\n",
              "    </tr>\n",
              "    <tr>\n",
              "      <th>2</th>\n",
              "      <td>EID_3891</td>\n",
              "      <td>F</td>\n",
              "      <td>58.0</td>\n",
              "      <td>3</td>\n",
              "      <td>Married</td>\n",
              "      <td>Clinton</td>\n",
              "      <td>Quality</td>\n",
              "      <td>Conceptual</td>\n",
              "      <td>27.0</td>\n",
              "      <td>3</td>\n",
              "      <td>51</td>\n",
              "      <td>0</td>\n",
              "      <td>2</td>\n",
              "      <td>8.0</td>\n",
              "      <td>type2</td>\n",
              "      <td>1.0</td>\n",
              "      <td>4</td>\n",
              "      <td>-0.9612</td>\n",
              "      <td>-0.4537</td>\n",
              "      <td>3.0</td>\n",
              "      <td>3</td>\n",
              "      <td>8</td>\n",
              "      <td>3</td>\n",
              "      <td>0.0851</td>\n",
              "    </tr>\n",
              "    <tr>\n",
              "      <th>3</th>\n",
              "      <td>EID_17492</td>\n",
              "      <td>F</td>\n",
              "      <td>26.0</td>\n",
              "      <td>3</td>\n",
              "      <td>Single</td>\n",
              "      <td>Lebanon</td>\n",
              "      <td>Human Resource Management</td>\n",
              "      <td>Behavioral</td>\n",
              "      <td>4.0</td>\n",
              "      <td>3</td>\n",
              "      <td>56</td>\n",
              "      <td>1</td>\n",
              "      <td>3</td>\n",
              "      <td>8.0</td>\n",
              "      <td>type2</td>\n",
              "      <td>1.0</td>\n",
              "      <td>3</td>\n",
              "      <td>-1.8176</td>\n",
              "      <td>-0.4537</td>\n",
              "      <td>NaN</td>\n",
              "      <td>3</td>\n",
              "      <td>7</td>\n",
              "      <td>3</td>\n",
              "      <td>0.0668</td>\n",
              "    </tr>\n",
              "    <tr>\n",
              "      <th>4</th>\n",
              "      <td>EID_22534</td>\n",
              "      <td>F</td>\n",
              "      <td>31.0</td>\n",
              "      <td>1</td>\n",
              "      <td>Married</td>\n",
              "      <td>Springfield</td>\n",
              "      <td>Logistics</td>\n",
              "      <td>Conceptual</td>\n",
              "      <td>5.0</td>\n",
              "      <td>4</td>\n",
              "      <td>62</td>\n",
              "      <td>1</td>\n",
              "      <td>3</td>\n",
              "      <td>2.0</td>\n",
              "      <td>type3</td>\n",
              "      <td>3.0</td>\n",
              "      <td>1</td>\n",
              "      <td>0.7516</td>\n",
              "      <td>-0.4537</td>\n",
              "      <td>2.0</td>\n",
              "      <td>2</td>\n",
              "      <td>8</td>\n",
              "      <td>2</td>\n",
              "      <td>0.1827</td>\n",
              "    </tr>\n",
              "    <tr>\n",
              "      <th>5</th>\n",
              "      <td>EID_2278</td>\n",
              "      <td>M</td>\n",
              "      <td>54.0</td>\n",
              "      <td>3</td>\n",
              "      <td>Married</td>\n",
              "      <td>Lebanon</td>\n",
              "      <td>Purchasing</td>\n",
              "      <td>Conceptual</td>\n",
              "      <td>19.0</td>\n",
              "      <td>1</td>\n",
              "      <td>21</td>\n",
              "      <td>2</td>\n",
              "      <td>5</td>\n",
              "      <td>9.0</td>\n",
              "      <td>type2</td>\n",
              "      <td>1.0</td>\n",
              "      <td>3</td>\n",
              "      <td>-1.8176</td>\n",
              "      <td>1.8688</td>\n",
              "      <td>2.0</td>\n",
              "      <td>2</td>\n",
              "      <td>8</td>\n",
              "      <td>3</td>\n",
              "      <td>0.7613</td>\n",
              "    </tr>\n",
              "    <tr>\n",
              "      <th>6</th>\n",
              "      <td>EID_18588</td>\n",
              "      <td>F</td>\n",
              "      <td>21.0</td>\n",
              "      <td>4</td>\n",
              "      <td>Married</td>\n",
              "      <td>Springfield</td>\n",
              "      <td>Purchasing</td>\n",
              "      <td>Directive</td>\n",
              "      <td>2.0</td>\n",
              "      <td>1</td>\n",
              "      <td>50</td>\n",
              "      <td>1</td>\n",
              "      <td>1</td>\n",
              "      <td>6.0</td>\n",
              "      <td>type2</td>\n",
              "      <td>2.0</td>\n",
              "      <td>3</td>\n",
              "      <td>-0.9612</td>\n",
              "      <td>0.7075</td>\n",
              "      <td>2.0</td>\n",
              "      <td>3</td>\n",
              "      <td>7</td>\n",
              "      <td>3</td>\n",
              "      <td>0.2819</td>\n",
              "    </tr>\n",
              "    <tr>\n",
              "      <th>7</th>\n",
              "      <td>EID_1235</td>\n",
              "      <td>F</td>\n",
              "      <td>NaN</td>\n",
              "      <td>3</td>\n",
              "      <td>Married</td>\n",
              "      <td>Springfield</td>\n",
              "      <td>Sales</td>\n",
              "      <td>Directive</td>\n",
              "      <td>34.0</td>\n",
              "      <td>4</td>\n",
              "      <td>23</td>\n",
              "      <td>1</td>\n",
              "      <td>4</td>\n",
              "      <td>6.0</td>\n",
              "      <td>type3</td>\n",
              "      <td>2.0</td>\n",
              "      <td>3</td>\n",
              "      <td>-0.1048</td>\n",
              "      <td>-0.4537</td>\n",
              "      <td>2.0</td>\n",
              "      <td>3</td>\n",
              "      <td>9</td>\n",
              "      <td>3</td>\n",
              "      <td>0.1169</td>\n",
              "    </tr>\n",
              "    <tr>\n",
              "      <th>8</th>\n",
              "      <td>EID_10197</td>\n",
              "      <td>M</td>\n",
              "      <td>40.0</td>\n",
              "      <td>4</td>\n",
              "      <td>Single</td>\n",
              "      <td>Springfield</td>\n",
              "      <td>Production</td>\n",
              "      <td>Analytical</td>\n",
              "      <td>13.0</td>\n",
              "      <td>1</td>\n",
              "      <td>49</td>\n",
              "      <td>0</td>\n",
              "      <td>1</td>\n",
              "      <td>9.0</td>\n",
              "      <td>type0</td>\n",
              "      <td>4.0</td>\n",
              "      <td>1</td>\n",
              "      <td>NaN</td>\n",
              "      <td>1.8688</td>\n",
              "      <td>2.0</td>\n",
              "      <td>5</td>\n",
              "      <td>6</td>\n",
              "      <td>3</td>\n",
              "      <td>0.1968</td>\n",
              "    </tr>\n",
              "    <tr>\n",
              "      <th>9</th>\n",
              "      <td>EID_21262</td>\n",
              "      <td>M</td>\n",
              "      <td>45.0</td>\n",
              "      <td>3</td>\n",
              "      <td>Married</td>\n",
              "      <td>Lebanon</td>\n",
              "      <td>IT</td>\n",
              "      <td>Directive</td>\n",
              "      <td>21.0</td>\n",
              "      <td>4</td>\n",
              "      <td>34</td>\n",
              "      <td>0</td>\n",
              "      <td>2</td>\n",
              "      <td>5.0</td>\n",
              "      <td>type3</td>\n",
              "      <td>4.0</td>\n",
              "      <td>3</td>\n",
              "      <td>0.7516</td>\n",
              "      <td>-0.4537</td>\n",
              "      <td>2.0</td>\n",
              "      <td>4</td>\n",
              "      <td>8</td>\n",
              "      <td>3</td>\n",
              "      <td>0.2870</td>\n",
              "    </tr>\n",
              "  </tbody>\n",
              "</table>\n",
              "</div>"
            ],
            "text/plain": [
              "  Employee_ID Gender   Age  Education_Level  ... VAR5 VAR6 VAR7 Attrition_rate\n",
              "0   EID_23371      F  42.0                4  ...    4    5    3         0.1841\n",
              "1   EID_18000      M  24.0                3  ...    3    5    3         0.0670\n",
              "2    EID_3891      F  58.0                3  ...    3    8    3         0.0851\n",
              "3   EID_17492      F  26.0                3  ...    3    7    3         0.0668\n",
              "4   EID_22534      F  31.0                1  ...    2    8    2         0.1827\n",
              "5    EID_2278      M  54.0                3  ...    2    8    3         0.7613\n",
              "6   EID_18588      F  21.0                4  ...    3    7    3         0.2819\n",
              "7    EID_1235      F   NaN                3  ...    3    9    3         0.1169\n",
              "8   EID_10197      M  40.0                4  ...    5    6    3         0.1968\n",
              "9   EID_21262      M  45.0                3  ...    4    8    3         0.2870\n",
              "\n",
              "[10 rows x 24 columns]"
            ]
          },
          "metadata": {
            "tags": []
          },
          "execution_count": 4
        }
      ]
    },
    {
      "cell_type": "code",
      "metadata": {
        "id": "wWsr27GLP8wy",
        "colab_type": "code",
        "colab": {}
      },
      "source": [
        "train_data['Age'].fillna((train_data['Age'].mean()), inplace=True)\n",
        "train_data['VAR2'].fillna((train_data['VAR2'].mean()), inplace=True)\n",
        "train_data['Pay_Scale'].fillna((train_data['Pay_Scale'].mean()), inplace=True)\n",
        "train_data['Work_Life_balance'].fillna((train_data['Work_Life_balance'].mean()), inplace=True)\n",
        "train_data['VAR4'].fillna((train_data['VAR4'].mean()), inplace=True)\n",
        "train_data['Time_of_service'].fillna((train_data['Time_of_service'].mean()), inplace=True)"
      ],
      "execution_count": 5,
      "outputs": []
    },
    {
      "cell_type": "code",
      "metadata": {
        "id": "03UfL3BpRQow",
        "colab_type": "code",
        "colab": {}
      },
      "source": [
        "test_data['Age'].fillna((test_data['Age'].mean()), inplace=True)\n",
        "test_data['VAR2'].fillna((test_data['VAR2'].mean()), inplace=True)\n",
        "test_data['Pay_Scale'].fillna((test_data['Pay_Scale'].mean()), inplace=True)\n",
        "test_data['Work_Life_balance'].fillna((test_data['Work_Life_balance'].mean()), inplace=True)\n",
        "test_data['VAR4'].fillna((test_data['VAR4'].mean()), inplace=True)\n",
        "test_data['Time_of_service'].fillna((test_data['Time_of_service'].mean()), inplace=True)"
      ],
      "execution_count": 6,
      "outputs": []
    },
    {
      "cell_type": "code",
      "metadata": {
        "id": "DtLm6Zz2Dhk7",
        "colab_type": "code",
        "colab": {
          "base_uri": "https://localhost:8080/",
          "height": 312
        },
        "outputId": "ebdd0e98-86d2-45f0-973c-d351e90dc59e"
      },
      "source": [
        "train_data = train_data.drop('Employee_ID', 1)\n",
        "test_data = test_data.drop('Employee_ID', 1)\n",
        "train_data = pd.get_dummies(train_data)\n",
        "test_data = pd.get_dummies(test_data)\n",
        "train_data.columns"
      ],
      "execution_count": 7,
      "outputs": [
        {
          "output_type": "execute_result",
          "data": {
            "text/plain": [
              "Index(['Age', 'Education_Level', 'Time_of_service', 'Time_since_promotion',\n",
              "       'growth_rate', 'Travel_Rate', 'Post_Level', 'Pay_Scale',\n",
              "       'Work_Life_balance', 'VAR1', 'VAR2', 'VAR3', 'VAR4', 'VAR5', 'VAR6',\n",
              "       'VAR7', 'Attrition_rate', 'Gender_F', 'Gender_M',\n",
              "       'Relationship_Status_Married', 'Relationship_Status_Single',\n",
              "       'Hometown_Clinton', 'Hometown_Franklin', 'Hometown_Lebanon',\n",
              "       'Hometown_Springfield', 'Hometown_Washington',\n",
              "       'Unit_Accounting and Finance', 'Unit_Human Resource Management',\n",
              "       'Unit_IT', 'Unit_Logistics', 'Unit_Marketing', 'Unit_Operarions',\n",
              "       'Unit_Production', 'Unit_Purchasing', 'Unit_Quality', 'Unit_R&D',\n",
              "       'Unit_Sales', 'Unit_Security', 'Decision_skill_possess_Analytical',\n",
              "       'Decision_skill_possess_Behavioral',\n",
              "       'Decision_skill_possess_Conceptual', 'Decision_skill_possess_Directive',\n",
              "       'Compensation_and_Benefits_type0', 'Compensation_and_Benefits_type1',\n",
              "       'Compensation_and_Benefits_type2', 'Compensation_and_Benefits_type3',\n",
              "       'Compensation_and_Benefits_type4'],\n",
              "      dtype='object')"
            ]
          },
          "metadata": {
            "tags": []
          },
          "execution_count": 7
        }
      ]
    },
    {
      "cell_type": "code",
      "metadata": {
        "id": "jVwDKXqUF5Ft",
        "colab_type": "code",
        "colab": {}
      },
      "source": [
        "dummyvarlist = ['Gender_F', 'Relationship_Status_Married', 'Hometown_Clinton', 'Unit_IT',\n",
        "                'Decision_skill_possess_Analytical', 'Compensation_and_Benefits_type0']\n",
        "for i in dummyvarlist:\n",
        "  train_data = train_data.drop(str(i), 1)\n",
        "  test_data = test_data.drop(str(i), 1)"
      ],
      "execution_count": 8,
      "outputs": []
    },
    {
      "cell_type": "code",
      "metadata": {
        "id": "tVrsqmpaG5fS",
        "colab_type": "code",
        "colab": {
          "base_uri": "https://localhost:8080/",
          "height": 34
        },
        "outputId": "1a44732d-e065-47f8-9d42-5dd10315f231"
      },
      "source": [
        "train_data.shape"
      ],
      "execution_count": 9,
      "outputs": [
        {
          "output_type": "execute_result",
          "data": {
            "text/plain": [
              "(7000, 41)"
            ]
          },
          "metadata": {
            "tags": []
          },
          "execution_count": 9
        }
      ]
    },
    {
      "cell_type": "code",
      "metadata": {
        "id": "BoReHlAzIXgz",
        "colab_type": "code",
        "colab": {
          "base_uri": "https://localhost:8080/",
          "height": 135
        },
        "outputId": "b306e6aa-4204-4c82-936b-cc58939454b1"
      },
      "source": [
        "train_data.head(1)"
      ],
      "execution_count": 10,
      "outputs": [
        {
          "output_type": "execute_result",
          "data": {
            "text/html": [
              "<div>\n",
              "<style scoped>\n",
              "    .dataframe tbody tr th:only-of-type {\n",
              "        vertical-align: middle;\n",
              "    }\n",
              "\n",
              "    .dataframe tbody tr th {\n",
              "        vertical-align: top;\n",
              "    }\n",
              "\n",
              "    .dataframe thead th {\n",
              "        text-align: right;\n",
              "    }\n",
              "</style>\n",
              "<table border=\"1\" class=\"dataframe\">\n",
              "  <thead>\n",
              "    <tr style=\"text-align: right;\">\n",
              "      <th></th>\n",
              "      <th>Age</th>\n",
              "      <th>Education_Level</th>\n",
              "      <th>Time_of_service</th>\n",
              "      <th>Time_since_promotion</th>\n",
              "      <th>growth_rate</th>\n",
              "      <th>Travel_Rate</th>\n",
              "      <th>Post_Level</th>\n",
              "      <th>Pay_Scale</th>\n",
              "      <th>Work_Life_balance</th>\n",
              "      <th>VAR1</th>\n",
              "      <th>VAR2</th>\n",
              "      <th>VAR3</th>\n",
              "      <th>VAR4</th>\n",
              "      <th>VAR5</th>\n",
              "      <th>VAR6</th>\n",
              "      <th>VAR7</th>\n",
              "      <th>Attrition_rate</th>\n",
              "      <th>Gender_M</th>\n",
              "      <th>Relationship_Status_Single</th>\n",
              "      <th>Hometown_Franklin</th>\n",
              "      <th>Hometown_Lebanon</th>\n",
              "      <th>Hometown_Springfield</th>\n",
              "      <th>Hometown_Washington</th>\n",
              "      <th>Unit_Accounting and Finance</th>\n",
              "      <th>Unit_Human Resource Management</th>\n",
              "      <th>Unit_Logistics</th>\n",
              "      <th>Unit_Marketing</th>\n",
              "      <th>Unit_Operarions</th>\n",
              "      <th>Unit_Production</th>\n",
              "      <th>Unit_Purchasing</th>\n",
              "      <th>Unit_Quality</th>\n",
              "      <th>Unit_R&amp;D</th>\n",
              "      <th>Unit_Sales</th>\n",
              "      <th>Unit_Security</th>\n",
              "      <th>Decision_skill_possess_Behavioral</th>\n",
              "      <th>Decision_skill_possess_Conceptual</th>\n",
              "      <th>Decision_skill_possess_Directive</th>\n",
              "      <th>Compensation_and_Benefits_type1</th>\n",
              "      <th>Compensation_and_Benefits_type2</th>\n",
              "      <th>Compensation_and_Benefits_type3</th>\n",
              "      <th>Compensation_and_Benefits_type4</th>\n",
              "    </tr>\n",
              "  </thead>\n",
              "  <tbody>\n",
              "    <tr>\n",
              "      <th>0</th>\n",
              "      <td>42.0</td>\n",
              "      <td>4</td>\n",
              "      <td>4.0</td>\n",
              "      <td>4</td>\n",
              "      <td>33</td>\n",
              "      <td>1</td>\n",
              "      <td>1</td>\n",
              "      <td>7.0</td>\n",
              "      <td>3.0</td>\n",
              "      <td>4</td>\n",
              "      <td>0.7516</td>\n",
              "      <td>1.8688</td>\n",
              "      <td>2.0</td>\n",
              "      <td>4</td>\n",
              "      <td>5</td>\n",
              "      <td>3</td>\n",
              "      <td>0.1841</td>\n",
              "      <td>0</td>\n",
              "      <td>0</td>\n",
              "      <td>1</td>\n",
              "      <td>0</td>\n",
              "      <td>0</td>\n",
              "      <td>0</td>\n",
              "      <td>0</td>\n",
              "      <td>0</td>\n",
              "      <td>0</td>\n",
              "      <td>0</td>\n",
              "      <td>0</td>\n",
              "      <td>0</td>\n",
              "      <td>0</td>\n",
              "      <td>0</td>\n",
              "      <td>0</td>\n",
              "      <td>0</td>\n",
              "      <td>0</td>\n",
              "      <td>0</td>\n",
              "      <td>1</td>\n",
              "      <td>0</td>\n",
              "      <td>0</td>\n",
              "      <td>1</td>\n",
              "      <td>0</td>\n",
              "      <td>0</td>\n",
              "    </tr>\n",
              "  </tbody>\n",
              "</table>\n",
              "</div>"
            ],
            "text/plain": [
              "    Age  ...  Compensation_and_Benefits_type4\n",
              "0  42.0  ...                                0\n",
              "\n",
              "[1 rows x 41 columns]"
            ]
          },
          "metadata": {
            "tags": []
          },
          "execution_count": 10
        }
      ]
    },
    {
      "cell_type": "code",
      "metadata": {
        "id": "Zd-U60rnMLRC",
        "colab_type": "code",
        "colab": {}
      },
      "source": [
        "X = train_data.drop('Attrition_rate', 1).values\n",
        "X_test = test_data.iloc[:, :].values\n",
        "y = train_data.iloc[:, 16].values"
      ],
      "execution_count": 42,
      "outputs": []
    },
    {
      "cell_type": "code",
      "metadata": {
        "id": "_hcdM3qIMpyA",
        "colab_type": "code",
        "colab": {
          "base_uri": "https://localhost:8080/",
          "height": 121
        },
        "outputId": "e573af8b-a866-47a8-ec92-0116e3377602"
      },
      "source": [
        "X[1]"
      ],
      "execution_count": 43,
      "outputs": [
        {
          "output_type": "execute_result",
          "data": {
            "text/plain": [
              "array([24.    ,  3.    ,  5.    ,  4.    , 36.    ,  0.    ,  3.    ,\n",
              "        6.    ,  4.    ,  3.    , -0.9612, -0.4537,  2.    ,  3.    ,\n",
              "        5.    ,  3.    ,  1.    ,  1.    ,  0.    ,  0.    ,  1.    ,\n",
              "        0.    ,  0.    ,  0.    ,  1.    ,  0.    ,  0.    ,  0.    ,\n",
              "        0.    ,  0.    ,  0.    ,  0.    ,  0.    ,  0.    ,  0.    ,\n",
              "        0.    ,  0.    ,  1.    ,  0.    ,  0.    ])"
            ]
          },
          "metadata": {
            "tags": []
          },
          "execution_count": 43
        }
      ]
    },
    {
      "cell_type": "code",
      "metadata": {
        "id": "A770GpYgOWGI",
        "colab_type": "code",
        "colab": {}
      },
      "source": [
        "# from sklearn.preprocessing import OneHotEncoder \n",
        "# from sklearn.compose import ColumnTransformer \n",
        "\n",
        "# # creating one hot encoder object with categorical feature 0 \n",
        "# # indicating the first column \n",
        "# columnTransformer = ColumnTransformer([('encoder', \n",
        "# \t\t\t\t\t\t\t\t\t\tOneHotEncoder(), \n",
        "# \t\t\t\t\t\t\t\t\t\t[0, 3, 4, 5, 6, 13])], \n",
        "# \t\t\t\t\t\t\t\t\tremainder='passthrough') \n",
        "\n",
        "# X = np.array(columnTransformer.fit_transform(X), dtype = np.str) \n",
        "# X_test = np.array(columnTransformer.fit_transform(X_test), dtype = np.str) "
      ],
      "execution_count": null,
      "outputs": []
    },
    {
      "cell_type": "code",
      "metadata": {
        "id": "_TP-Mol9RnYc",
        "colab_type": "code",
        "colab": {
          "base_uri": "https://localhost:8080/",
          "height": 121
        },
        "outputId": "e7bb9439-a6b1-4cd2-d462-e4d580737c57"
      },
      "source": [
        "X[1].reshape(1, -1)"
      ],
      "execution_count": 44,
      "outputs": [
        {
          "output_type": "execute_result",
          "data": {
            "text/plain": [
              "array([[24.    ,  3.    ,  5.    ,  4.    , 36.    ,  0.    ,  3.    ,\n",
              "         6.    ,  4.    ,  3.    , -0.9612, -0.4537,  2.    ,  3.    ,\n",
              "         5.    ,  3.    ,  1.    ,  1.    ,  0.    ,  0.    ,  1.    ,\n",
              "         0.    ,  0.    ,  0.    ,  1.    ,  0.    ,  0.    ,  0.    ,\n",
              "         0.    ,  0.    ,  0.    ,  0.    ,  0.    ,  0.    ,  0.    ,\n",
              "         0.    ,  0.    ,  1.    ,  0.    ,  0.    ]])"
            ]
          },
          "metadata": {
            "tags": []
          },
          "execution_count": 44
        }
      ]
    },
    {
      "cell_type": "code",
      "metadata": {
        "id": "HbjY2hmONIYl",
        "colab_type": "code",
        "colab": {}
      },
      "source": [
        "from sklearn.impute import SimpleImputer\n",
        "impute = SimpleImputer(missing_values = np.nan, strategy = 'mean')\n",
        "nanlist = [1, 6, 7, 12, 14, 16, 18]\n",
        "for i in nanlist:\n",
        "  X[i] = (impute.fit_transform(X[i].reshape(1, -1)))\n",
        "  X_test[i] = (impute.fit_transform(X_test[i].reshape(1, -1)))"
      ],
      "execution_count": 47,
      "outputs": []
    },
    {
      "cell_type": "code",
      "metadata": {
        "id": "dqfblFKyUwMe",
        "colab_type": "code",
        "colab": {}
      },
      "source": [
        "X = X.astype('float64')\n",
        "X_test = X_test.astype('float64')"
      ],
      "execution_count": 48,
      "outputs": []
    },
    {
      "cell_type": "code",
      "metadata": {
        "id": "3_u9m8mGZ0N6",
        "colab_type": "code",
        "colab": {}
      },
      "source": [
        " from sklearn.model_selection import GridSearchCV\n",
        " params = {\n",
        " 'alpha_1' : [1, 0.1, 0.01, 0.001, 0.0001, 0],\n",
        " 'alpha_2' : [1, 0.1, 0.01, 0.001, 0.0001, 0],\n",
        " 'n_iter' : [5, 7, 10, 12, 15, 20, 25, 50, 100],\n",
        "  'tol' : [1, 0.1, 0.001, 0.0001]\n",
        " }"
      ],
      "execution_count": 50,
      "outputs": []
    },
    {
      "cell_type": "code",
      "metadata": {
        "id": "GM3ZdUo2TaDs",
        "colab_type": "code",
        "colab": {}
      },
      "source": [
        "from sklearn.model_selection import train_test_split\n",
        "x_train,x_test,y_train,y_test=train_test_split(X,y,test_size=0.1)"
      ],
      "execution_count": 52,
      "outputs": []
    },
    {
      "cell_type": "code",
      "metadata": {
        "id": "SbQkevaFUaD6",
        "colab_type": "code",
        "colab": {
          "base_uri": "https://localhost:8080/",
          "height": 278
        },
        "outputId": "feb9d0ea-e7bc-40af-fdbb-12339277bc65"
      },
      "source": [
        "from sklearn.linear_model import BayesianRidge, LinearRegression, Lasso, ElasticNet\n",
        "model = BayesianRidge()\n",
        "grid = GridSearchCV(estimator=model, param_grid = params)\n",
        "grid.fit(x_train, y_train)"
      ],
      "execution_count": 53,
      "outputs": [
        {
          "output_type": "execute_result",
          "data": {
            "text/plain": [
              "GridSearchCV(cv=None, error_score=nan,\n",
              "             estimator=BayesianRidge(alpha_1=1e-06, alpha_2=1e-06,\n",
              "                                     alpha_init=None, compute_score=False,\n",
              "                                     copy_X=True, fit_intercept=True,\n",
              "                                     lambda_1=1e-06, lambda_2=1e-06,\n",
              "                                     lambda_init=None, n_iter=300,\n",
              "                                     normalize=False, tol=0.001,\n",
              "                                     verbose=False),\n",
              "             iid='deprecated', n_jobs=None,\n",
              "             param_grid={'alpha_1': [1, 0.1, 0.01, 0.001, 0.0001, 0],\n",
              "                         'alpha_2': [1, 0.1, 0.01, 0.001, 0.0001, 0],\n",
              "                         'n_iter': [5, 7, 10, 12, 15, 20, 25, 50, 100],\n",
              "                         'tol': [1, 0.1, 0.001, 0.0001]},\n",
              "             pre_dispatch='2*n_jobs', refit=True, return_train_score=False,\n",
              "             scoring=None, verbose=0)"
            ]
          },
          "metadata": {
            "tags": []
          },
          "execution_count": 53
        }
      ]
    },
    {
      "cell_type": "code",
      "metadata": {
        "id": "C2vfaD1_aXYW",
        "colab_type": "code",
        "colab": {
          "base_uri": "https://localhost:8080/",
          "height": 364
        },
        "outputId": "93b5b7ab-414f-4285-cf66-652b3a3e3864"
      },
      "source": [
        "print(grid)\n",
        "# summarize the results of the grid search\n",
        "print(grid.best_score_)\n",
        "print(grid.best_estimator_)"
      ],
      "execution_count": 54,
      "outputs": [
        {
          "output_type": "stream",
          "text": [
            "GridSearchCV(cv=None, error_score=nan,\n",
            "             estimator=BayesianRidge(alpha_1=1e-06, alpha_2=1e-06,\n",
            "                                     alpha_init=None, compute_score=False,\n",
            "                                     copy_X=True, fit_intercept=True,\n",
            "                                     lambda_1=1e-06, lambda_2=1e-06,\n",
            "                                     lambda_init=None, n_iter=300,\n",
            "                                     normalize=False, tol=0.001,\n",
            "                                     verbose=False),\n",
            "             iid='deprecated', n_jobs=None,\n",
            "             param_grid={'alpha_1': [1, 0.1, 0.01, 0.001, 0.0001, 0],\n",
            "                         'alpha_2': [1, 0.1, 0.01, 0.001, 0.0001, 0],\n",
            "                         'n_iter': [5, 7, 10, 12, 15, 20, 25, 50, 100],\n",
            "                         'tol': [1, 0.1, 0.001, 0.0001]},\n",
            "             pre_dispatch='2*n_jobs', refit=True, return_train_score=False,\n",
            "             scoring=None, verbose=0)\n",
            "-0.001354380404841038\n",
            "BayesianRidge(alpha_1=0, alpha_2=1, alpha_init=None, compute_score=False,\n",
            "              copy_X=True, fit_intercept=True, lambda_1=1e-06, lambda_2=1e-06,\n",
            "              lambda_init=None, n_iter=25, normalize=False, tol=0.0001,\n",
            "              verbose=False)\n"
          ],
          "name": "stdout"
        }
      ]
    },
    {
      "cell_type": "code",
      "metadata": {
        "id": "gkAiBF-CcoKy",
        "colab_type": "code",
        "colab": {}
      },
      "source": [
        "model = BayesianRidge(alpha_1 = 0, alpha_2 = 1, lambda_1 = 1, lambda_2 = 0,\n",
        "                      n_iter = 6)"
      ],
      "execution_count": 68,
      "outputs": []
    },
    {
      "cell_type": "code",
      "metadata": {
        "id": "Dtz-4xy9Tgap",
        "colab_type": "code",
        "colab": {
          "base_uri": "https://localhost:8080/",
          "height": 86
        },
        "outputId": "1b67d148-dbe3-4311-d00b-0783d6dfff17"
      },
      "source": [
        "model.fit(X, y)"
      ],
      "execution_count": 69,
      "outputs": [
        {
          "output_type": "execute_result",
          "data": {
            "text/plain": [
              "BayesianRidge(alpha_1=0, alpha_2=1, alpha_init=None, compute_score=False,\n",
              "              copy_X=True, fit_intercept=True, lambda_1=1, lambda_2=0,\n",
              "              lambda_init=None, n_iter=6, normalize=False, tol=0.001,\n",
              "              verbose=False)"
            ]
          },
          "metadata": {
            "tags": []
          },
          "execution_count": 69
        }
      ]
    },
    {
      "cell_type": "code",
      "metadata": {
        "id": "03vl26HGTmlK",
        "colab_type": "code",
        "colab": {
          "base_uri": "https://localhost:8080/",
          "height": 34
        },
        "outputId": "a00f24aa-b8c3-4597-bf7d-57b827ef6218"
      },
      "source": [
        "accuracy = model.score(x_test, y_test)\n",
        "accuracy"
      ],
      "execution_count": 70,
      "outputs": [
        {
          "output_type": "execute_result",
          "data": {
            "text/plain": [
              "0.00043386041442106116"
            ]
          },
          "metadata": {
            "tags": []
          },
          "execution_count": 70
        }
      ]
    },
    {
      "cell_type": "code",
      "metadata": {
        "id": "vdQu9KmOHXBI",
        "colab_type": "code",
        "colab": {
          "base_uri": "https://localhost:8080/",
          "height": 52
        },
        "outputId": "3d312c4f-4d46-45e3-979b-ceb23e78b457"
      },
      "source": [
        "preds = model.predict(X_test)\n",
        "preds"
      ],
      "execution_count": 71,
      "outputs": [
        {
          "output_type": "execute_result",
          "data": {
            "text/plain": [
              "array([0.19138179, 0.18898295, 0.18119961, ..., 0.18448223, 0.18104928,\n",
              "       0.19273134])"
            ]
          },
          "metadata": {
            "tags": []
          },
          "execution_count": 71
        }
      ]
    },
    {
      "cell_type": "code",
      "metadata": {
        "id": "1IRSOjwJBTn1",
        "colab_type": "code",
        "colab": {}
      },
      "source": [
        "rows = zip(tstdata['Employee_ID'], preds)\n",
        "import csv\n",
        "with open('bayesian_ridge_3.csv', \"w\") as f:\n",
        "    writer = csv.writer(f)\n",
        "    for row in rows:\n",
        "        writer.writerow(row)"
      ],
      "execution_count": 72,
      "outputs": []
    },
    {
      "cell_type": "code",
      "metadata": {
        "id": "pnj_S03cBToA",
        "colab_type": "code",
        "colab": {}
      },
      "source": [
        "df = pd.read_csv('bayesian_ridge_3.csv', header=None)\n",
        "df.rename(columns={0: 'Employee_ID', 1: 'Attrition_rate'}, inplace=True)\n",
        "df.to_csv('bayesian_ridge_3.csv', index=False) # save to new csv file"
      ],
      "execution_count": 73,
      "outputs": []
    }
  ]
}