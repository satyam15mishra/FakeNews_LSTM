{
 "cells": [
  {
   "cell_type": "code",
   "execution_count": 151,
   "metadata": {},
   "outputs": [
    {
     "data": {
      "text/plain": [
       "'1.13.1'"
      ]
     },
     "execution_count": 151,
     "metadata": {},
     "output_type": "execute_result"
    }
   ],
   "source": [
    "import pandas as pd\n",
    "import numpy as np\n",
    "import tensorflow as tf\n",
    "import warnings\n",
    "warnings.filterwarnings('ignore')\n",
    "tf.__version__"
   ]
  },
  {
   "cell_type": "code",
   "execution_count": 152,
   "metadata": {},
   "outputs": [
    {
     "data": {
      "text/html": [
       "<div>\n",
       "<style scoped>\n",
       "    .dataframe tbody tr th:only-of-type {\n",
       "        vertical-align: middle;\n",
       "    }\n",
       "\n",
       "    .dataframe tbody tr th {\n",
       "        vertical-align: top;\n",
       "    }\n",
       "\n",
       "    .dataframe thead th {\n",
       "        text-align: right;\n",
       "    }\n",
       "</style>\n",
       "<table border=\"1\" class=\"dataframe\">\n",
       "  <thead>\n",
       "    <tr style=\"text-align: right;\">\n",
       "      <th></th>\n",
       "      <th>id</th>\n",
       "      <th>keyword</th>\n",
       "      <th>location</th>\n",
       "      <th>text</th>\n",
       "      <th>target</th>\n",
       "    </tr>\n",
       "  </thead>\n",
       "  <tbody>\n",
       "    <tr>\n",
       "      <th>0</th>\n",
       "      <td>1</td>\n",
       "      <td>NaN</td>\n",
       "      <td>NaN</td>\n",
       "      <td>Our Deeds are the Reason of this #earthquake M...</td>\n",
       "      <td>1</td>\n",
       "    </tr>\n",
       "    <tr>\n",
       "      <th>1</th>\n",
       "      <td>4</td>\n",
       "      <td>NaN</td>\n",
       "      <td>NaN</td>\n",
       "      <td>Forest fire near La Ronge Sask. Canada</td>\n",
       "      <td>1</td>\n",
       "    </tr>\n",
       "    <tr>\n",
       "      <th>2</th>\n",
       "      <td>5</td>\n",
       "      <td>NaN</td>\n",
       "      <td>NaN</td>\n",
       "      <td>All residents asked to 'shelter in place' are ...</td>\n",
       "      <td>1</td>\n",
       "    </tr>\n",
       "    <tr>\n",
       "      <th>3</th>\n",
       "      <td>6</td>\n",
       "      <td>NaN</td>\n",
       "      <td>NaN</td>\n",
       "      <td>13,000 people receive #wildfires evacuation or...</td>\n",
       "      <td>1</td>\n",
       "    </tr>\n",
       "    <tr>\n",
       "      <th>4</th>\n",
       "      <td>7</td>\n",
       "      <td>NaN</td>\n",
       "      <td>NaN</td>\n",
       "      <td>Just got sent this photo from Ruby #Alaska as ...</td>\n",
       "      <td>1</td>\n",
       "    </tr>\n",
       "  </tbody>\n",
       "</table>\n",
       "</div>"
      ],
      "text/plain": [
       "   id keyword location                                               text  \\\n",
       "0   1     NaN      NaN  Our Deeds are the Reason of this #earthquake M...   \n",
       "1   4     NaN      NaN             Forest fire near La Ronge Sask. Canada   \n",
       "2   5     NaN      NaN  All residents asked to 'shelter in place' are ...   \n",
       "3   6     NaN      NaN  13,000 people receive #wildfires evacuation or...   \n",
       "4   7     NaN      NaN  Just got sent this photo from Ruby #Alaska as ...   \n",
       "\n",
       "   target  \n",
       "0       1  \n",
       "1       1  \n",
       "2       1  \n",
       "3       1  \n",
       "4       1  "
      ]
     },
     "execution_count": 152,
     "metadata": {},
     "output_type": "execute_result"
    }
   ],
   "source": [
    "data = pd.read_csv('train.csv')\n",
    "data.head(5)"
   ]
  },
  {
   "cell_type": "code",
   "execution_count": 153,
   "metadata": {},
   "outputs": [
    {
     "name": "stdout",
     "output_type": "stream",
     "text": [
      "(5080, 4) (5080,)\n"
     ]
    }
   ],
   "source": [
    "data = data.dropna()\n",
    "x = data.drop('target', axis = 1)\n",
    "y = data['target']\n",
    "print(x.shape, y.shape)"
   ]
  },
  {
   "cell_type": "code",
   "execution_count": 154,
   "metadata": {},
   "outputs": [],
   "source": [
    "from tensorflow.keras.layers import Embedding\n",
    "from tensorflow.keras.models import Sequential\n",
    "from tensorflow.keras.preprocessing.sequence import pad_sequences\n",
    "from tensorflow.keras.preprocessing.text import one_hot\n",
    "from tensorflow.python.keras.layers import LSTM, Dense, Dropout, Bidirectional, GlobalMaxPool1D"
   ]
  },
  {
   "cell_type": "code",
   "execution_count": 155,
   "metadata": {},
   "outputs": [],
   "source": [
    "vocab_size = 5000\n",
    "sentence_length = 30\n",
    "msg = x.copy()\n",
    "msg.reset_index(inplace = True)"
   ]
  },
  {
   "cell_type": "code",
   "execution_count": 156,
   "metadata": {},
   "outputs": [],
   "source": [
    "import re\n",
    "import nltk\n",
    "from nltk.corpus import stopwords"
   ]
  },
  {
   "cell_type": "code",
   "execution_count": 157,
   "metadata": {},
   "outputs": [],
   "source": [
    "#Data Preprocessing\n",
    "from nltk.stem.porter import PorterStemmer\n",
    "porter_stem = PorterStemmer()\n",
    "corpus = []\n",
    "for i in range(0, len(msg)):\n",
    "    rvw = re.sub('[^a-zA-z]', ' ', msg['text'][i])\n",
    "    emoji_pattern = re.compile(\"[\"\n",
    "                           u\"\\U0001F600-\\U0001F64F\"  # emoticons\n",
    "                           u\"\\U0001F300-\\U0001F5FF\"  # symbols & pictographs\n",
    "                           u\"\\U0001F680-\\U0001F6FF\"  # transport & map symbols\n",
    "                           u\"\\U0001F1E0-\\U0001F1FF\"  # flags (iOS)\n",
    "                           u\"\\U00002702-\\U000027B0\"\n",
    "                           u\"\\U000024C2-\\U0001F251\"\n",
    "                           \"]+\", flags=re.UNICODE)\n",
    "    rvw = emoji_pattern.sub('', msg['text'][i])\n",
    "    url = re.compile(r'https?://\\S+|www\\.\\S+')\n",
    "    rvw = url.sub('', msg['text'][i])\n",
    "    rvw = rvw.lower()\n",
    "    rvw = rvw.split()\n",
    "    rvw = [porter_stem.stem(word) for word in rvw if not word in stopwords.words('english')]\n",
    "    rvw = ' '.join(rvw)\n",
    "    corpus.append(rvw)"
   ]
  },
  {
   "cell_type": "code",
   "execution_count": 158,
   "metadata": {},
   "outputs": [],
   "source": [
    "onehot = [one_hot(words, vocab_size) for words in corpus]"
   ]
  },
  {
   "cell_type": "code",
   "execution_count": 159,
   "metadata": {},
   "outputs": [
    {
     "data": {
      "text/plain": [
       "5080"
      ]
     },
     "execution_count": 159,
     "metadata": {},
     "output_type": "execute_result"
    }
   ],
   "source": [
    "#Padding the onehot length because embedding layer requires sentences of equal length\n",
    "embed_doc = pad_sequences(onehot, padding = 'pre', maxlen = sentence_length)\n",
    "len(embed_doc)"
   ]
  },
  {
   "cell_type": "code",
   "execution_count": 160,
   "metadata": {},
   "outputs": [
    {
     "name": "stdout",
     "output_type": "stream",
     "text": [
      "_________________________________________________________________\n",
      "Layer (type)                 Output Shape              Param #   \n",
      "=================================================================\n",
      "embedding_16 (Embedding)     (None, 30, 128)           640000    \n",
      "_________________________________________________________________\n",
      "dropout_12 (Dropout)         (None, 30, 128)           0         \n",
      "_________________________________________________________________\n",
      "bidirectional_2 (Bidirection (None, 30, 128)           98816     \n",
      "_________________________________________________________________\n",
      "global_max_pooling1d_1 (Glob (None, 128)               0         \n",
      "_________________________________________________________________\n",
      "dense_11 (Dense)             (None, 1)                 129       \n",
      "=================================================================\n",
      "Total params: 738,945\n",
      "Trainable params: 738,945\n",
      "Non-trainable params: 0\n",
      "_________________________________________________________________\n",
      "None\n"
     ]
    }
   ],
   "source": [
    "#Creating the model\n",
    "embedding_vec_features = 128\n",
    "model = Sequential()\n",
    "model.add(Embedding(vocab_size, embedding_vec_features, input_length = sentence_length))\n",
    "model.add(Dropout(0.5))\n",
    "model.add(Bidirectional(LSTM(64, return_sequences=True, dropout=0.3, recurrent_dropout=0.3)))\n",
    "model.add(GlobalMaxPool1D())\n",
    "#Dense layer with sigmoid activation because this is a classification problem and we need 1 output\n",
    "model.add(Dense(1, activation = 'sigmoid'))\n",
    "model.compile(loss = 'binary_crossentropy', optimizer = 'adam', metrics = ['accuracy'])\n",
    "print(model.summary())"
   ]
  },
  {
   "cell_type": "code",
   "execution_count": 161,
   "metadata": {},
   "outputs": [
    {
     "name": "stdout",
     "output_type": "stream",
     "text": [
      "(5080, 30) (5080,)\n"
     ]
    }
   ],
   "source": [
    "import numpy as np\n",
    "x_final = np.array(embed_doc)\n",
    "y_final = np.array(y)\n",
    "print(x_final.shape, y_final.shape)"
   ]
  },
  {
   "cell_type": "code",
   "execution_count": 162,
   "metadata": {},
   "outputs": [],
   "source": [
    "from sklearn.model_selection import train_test_split\n",
    "x_train, x_val, y_train, y_val = train_test_split(x_final, y_final, test_size = 0.1, random_state = 42)"
   ]
  },
  {
   "cell_type": "code",
   "execution_count": 163,
   "metadata": {},
   "outputs": [
    {
     "name": "stdout",
     "output_type": "stream",
     "text": [
      "Train on 4572 samples, validate on 508 samples\n",
      "Epoch 1/5\n",
      "4572/4572 [==============================] - 58s 13ms/sample - loss: 0.5948 - acc: 0.6745 - val_loss: 0.4866 - val_acc: 0.7776\n",
      "Epoch 2/5\n",
      "4572/4572 [==============================] - 47s 10ms/sample - loss: 0.3991 - acc: 0.8268 - val_loss: 0.4955 - val_acc: 0.7854\n",
      "Epoch 3/5\n",
      "4572/4572 [==============================] - 45s 10ms/sample - loss: 0.3009 - acc: 0.8760 - val_loss: 0.5743 - val_acc: 0.7618\n",
      "Epoch 4/5\n",
      "4572/4572 [==============================] - 44s 10ms/sample - loss: 0.2291 - acc: 0.9151 - val_loss: 0.6140 - val_acc: 0.7717\n",
      "Epoch 5/5\n",
      "4572/4572 [==============================] - 45s 10ms/sample - loss: 0.1728 - acc: 0.9346 - val_loss: 0.7085 - val_acc: 0.7677\n"
     ]
    }
   ],
   "source": [
    "history = model.fit(x_train, y_train, validation_data = (x_val, y_val), epochs = 5, batch_size = 8)"
   ]
  },
  {
   "cell_type": "code",
   "execution_count": 164,
   "metadata": {},
   "outputs": [
    {
     "data": {
      "image/png": "[encoded data removed]",
      "text/plain": [
       "<Figure size 1080x504 with 2 Axes>"
      ]
     },
     "metadata": {
      "needs_background": "light"
     },
     "output_type": "display_data"
    }
   ],
   "source": [
    "import matplotlib.pyplot as plt\n",
    "plt.figure(figsize=(15,7))\n",
    "ax1 = plt.subplot(1,2,1)\n",
    "ax1.plot(history.history['loss'], color='b', label='Training Loss') \n",
    "ax1.plot(history.history['val_loss'], color='r', label = 'Validation Loss',axes=ax1)\n",
    "legend = ax1.legend(loc='best', shadow=True)\n",
    "ax2 = plt.subplot(1,2,2)\n",
    "ax2.plot(history.history['acc'], color='b', label='Training Accuracy') \n",
    "ax2.plot(history.history['val_acc'], color='r', label = 'Validation Accuracy')\n",
    "legend = ax2.legend(loc='best', shadow=True)"
   ]
  },
  {
   "cell_type": "code",
   "execution_count": 165,
   "metadata": {},
   "outputs": [],
   "source": [
    "def test(X):\n",
    "    X = X.fillna(0)\n",
    "    messages = X.copy()\n",
    "    messages.reset_index(inplace=True)\n",
    "    testcorpus=[]\n",
    "    \n",
    "    for i in range(len(messages)):\n",
    "        reviews=re.sub('[^a-zA-Z]',' ',str(messages['text'][i]))\n",
    "        emoji_pattern = re.compile(\"[\"\n",
    "                           u\"\\U0001F600-\\U0001F64F\"  # emoticons\n",
    "                           u\"\\U0001F300-\\U0001F5FF\"  # symbols & pictographs\n",
    "                           u\"\\U0001F680-\\U0001F6FF\"  # transport & map symbols\n",
    "                           u\"\\U0001F1E0-\\U0001F1FF\"  # flags (iOS)\n",
    "                           u\"\\U00002702-\\U000027B0\"\n",
    "                           u\"\\U000024C2-\\U0001F251\"\n",
    "                           \"]+\", flags=re.UNICODE)\n",
    "        rvw = emoji_pattern.sub('', msg['text'][i])\n",
    "        url = re.compile(r'https?://\\S+|www\\.\\S+')\n",
    "        rvw = url.sub('', msg['text'][i])\n",
    "        reviews=reviews.lower()\n",
    "        reviews=reviews.split()\n",
    "        reviews=[porter_stem.stem(word) for word in reviews if word not in stopwords.words('english')]\n",
    "        reviews=' '.join(reviews)\n",
    "        testcorpus.append(reviews)\n",
    "    one_hot_rep=[one_hot(word,vocab_size)for word in testcorpus]\n",
    "    embedded_docs = pad_sequences(one_hot_rep, padding = 'pre', maxlen = sentence_length)\n",
    "    X_final = np.array(embedded_docs)\n",
    "    \n",
    "    return X_final"
   ]
  },
  {
   "cell_type": "code",
   "execution_count": null,
   "metadata": {},
   "outputs": [],
   "source": [
    "test_data = pd.read_csv('test.csv')\n",
    "test_final = test(test_data)"
   ]
  },
  {
   "cell_type": "code",
   "execution_count": null,
   "metadata": {},
   "outputs": [],
   "source": [
    "test_pred = model.predict(test_final)\n",
    "test_pred.shape"
   ]
  },
  {
   "cell_type": "code",
   "execution_count": null,
   "metadata": {},
   "outputs": [],
   "source": [
    "submission_data = pd.read_csv('sample_submission.csv')\n",
    "submission_data['target']=np.round(test_pred).astype('int')\n",
    "submission_data.to_csv('my_submission_third_9June.csv',index=False)"
   ]
  }
 ],
 "metadata": {
  "kernelspec": {
   "display_name": "Python 3",
   "language": "python",
   "name": "python3"
  },
  "language_info": {
   "codemirror_mode": {
    "name": "ipython",
    "version": 3
   },
   "file_extension": ".py",
   "mimetype": "text/x-python",
   "name": "python",
   "nbconvert_exporter": "python",
   "pygments_lexer": "ipython3",
   "version": "3.6.9"
  }
 },
 "nbformat": 4,
 "nbformat_minor": 4
}
