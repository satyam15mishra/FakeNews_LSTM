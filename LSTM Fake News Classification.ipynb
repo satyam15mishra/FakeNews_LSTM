{
 "cells": [
  {
   "cell_type": "code",
   "execution_count": 3,
   "metadata": {},
   "outputs": [
    {
     "data": {
      "text/plain": [
       "'1.13.1'"
      ]
     },
     "execution_count": 3,
     "metadata": {},
     "output_type": "execute_result"
    }
   ],
   "source": [
    "import pandas as pd\n",
    "import tensorflow as tf\n",
    "import warnings\n",
    "warnings.filterwarnings('ignore')\n",
    "tf.__version__"
   ]
  },
  {
   "cell_type": "code",
   "execution_count": 29,
   "metadata": {},
   "outputs": [
    {
     "data": {
      "text/html": [
       "<div>\n",
       "<style scoped>\n",
       "    .dataframe tbody tr th:only-of-type {\n",
       "        vertical-align: middle;\n",
       "    }\n",
       "\n",
       "    .dataframe tbody tr th {\n",
       "        vertical-align: top;\n",
       "    }\n",
       "\n",
       "    .dataframe thead th {\n",
       "        text-align: right;\n",
       "    }\n",
       "</style>\n",
       "<table border=\"1\" class=\"dataframe\">\n",
       "  <thead>\n",
       "    <tr style=\"text-align: right;\">\n",
       "      <th></th>\n",
       "      <th>id</th>\n",
       "      <th>title</th>\n",
       "      <th>author</th>\n",
       "      <th>text</th>\n",
       "      <th>label</th>\n",
       "    </tr>\n",
       "  </thead>\n",
       "  <tbody>\n",
       "    <tr>\n",
       "      <th>0</th>\n",
       "      <td>0</td>\n",
       "      <td>House Dem Aide: We Didn’t Even See Comey’s Let...</td>\n",
       "      <td>Darrell Lucus</td>\n",
       "      <td>House Dem Aide: We Didn’t Even See Comey’s Let...</td>\n",
       "      <td>1</td>\n",
       "    </tr>\n",
       "    <tr>\n",
       "      <th>1</th>\n",
       "      <td>1</td>\n",
       "      <td>FLYNN: Hillary Clinton, Big Woman on Campus - ...</td>\n",
       "      <td>Daniel J. Flynn</td>\n",
       "      <td>Ever get the feeling your life circles the rou...</td>\n",
       "      <td>0</td>\n",
       "    </tr>\n",
       "    <tr>\n",
       "      <th>2</th>\n",
       "      <td>2</td>\n",
       "      <td>Why the Truth Might Get You Fired</td>\n",
       "      <td>Consortiumnews.com</td>\n",
       "      <td>Why the Truth Might Get You Fired October 29, ...</td>\n",
       "      <td>1</td>\n",
       "    </tr>\n",
       "    <tr>\n",
       "      <th>3</th>\n",
       "      <td>3</td>\n",
       "      <td>15 Civilians Killed In Single US Airstrike Hav...</td>\n",
       "      <td>Jessica Purkiss</td>\n",
       "      <td>Videos 15 Civilians Killed In Single US Airstr...</td>\n",
       "      <td>1</td>\n",
       "    </tr>\n",
       "    <tr>\n",
       "      <th>4</th>\n",
       "      <td>4</td>\n",
       "      <td>Iranian woman jailed for fictional unpublished...</td>\n",
       "      <td>Howard Portnoy</td>\n",
       "      <td>Print \\nAn Iranian woman has been sentenced to...</td>\n",
       "      <td>1</td>\n",
       "    </tr>\n",
       "  </tbody>\n",
       "</table>\n",
       "</div>"
      ],
      "text/plain": [
       "   id                                              title              author  \\\n",
       "0   0  House Dem Aide: We Didn’t Even See Comey’s Let...       Darrell Lucus   \n",
       "1   1  FLYNN: Hillary Clinton, Big Woman on Campus - ...     Daniel J. Flynn   \n",
       "2   2                  Why the Truth Might Get You Fired  Consortiumnews.com   \n",
       "3   3  15 Civilians Killed In Single US Airstrike Hav...     Jessica Purkiss   \n",
       "4   4  Iranian woman jailed for fictional unpublished...      Howard Portnoy   \n",
       "\n",
       "                                                text  label  \n",
       "0  House Dem Aide: We Didn’t Even See Comey’s Let...      1  \n",
       "1  Ever get the feeling your life circles the rou...      0  \n",
       "2  Why the Truth Might Get You Fired October 29, ...      1  \n",
       "3  Videos 15 Civilians Killed In Single US Airstr...      1  \n",
       "4  Print \\nAn Iranian woman has been sentenced to...      1  "
      ]
     },
     "execution_count": 29,
     "metadata": {},
     "output_type": "execute_result"
    }
   ],
   "source": [
    "data = pd.read_csv('train.csv')\n",
    "data.head(5)"
   ]
  },
  {
   "cell_type": "code",
   "execution_count": 30,
   "metadata": {},
   "outputs": [
    {
     "name": "stdout",
     "output_type": "stream",
     "text": [
      "(18285, 4) (18285,)\n"
     ]
    }
   ],
   "source": [
    "data = data.dropna()\n",
    "x = data.drop('label', axis = 1)\n",
    "y = data['label']\n",
    "print(x.shape, y.shape)"
   ]
  },
  {
   "cell_type": "code",
   "execution_count": 55,
   "metadata": {},
   "outputs": [],
   "source": [
    "from tensorflow.keras.layers import Embedding\n",
    "from tensorflow.keras.models import Sequential\n",
    "from tensorflow.keras.preprocessing.sequence import pad_sequences\n",
    "from tensorflow.keras.preprocessing.text import one_hot\n",
    "from tensorflow.python.keras.layers import LSTM, Dense, Dropout"
   ]
  },
  {
   "cell_type": "code",
   "execution_count": 31,
   "metadata": {},
   "outputs": [],
   "source": [
    "#Defining vocabulary size\n",
    "vocab_size = 5000\n",
    "#Resetting index because we've dropped NaN values before\n",
    "msg = x.copy()\n",
    "msg.reset_index(inplace = True)"
   ]
  },
  {
   "cell_type": "code",
   "execution_count": 16,
   "metadata": {},
   "outputs": [],
   "source": [
    "import re\n",
    "import nltk\n",
    "from nltk.corpus import stopwords"
   ]
  },
  {
   "cell_type": "code",
   "execution_count": 12,
   "metadata": {},
   "outputs": [
    {
     "name": "stderr",
     "output_type": "stream",
     "text": [
      "[nltk_data] Downloading package stopwords to /home/satyam/nltk_data...\n",
      "[nltk_data]   Package stopwords is already up-to-date!\n"
     ]
    },
    {
     "data": {
      "text/plain": [
       "True"
      ]
     },
     "execution_count": 12,
     "metadata": {},
     "output_type": "execute_result"
    }
   ],
   "source": [
    "nltk.download('stopwords')"
   ]
  },
  {
   "cell_type": "code",
   "execution_count": 33,
   "metadata": {},
   "outputs": [],
   "source": [
    "#Data Preprocessing\n",
    "from nltk.stem.porter import PorterStemmer\n",
    "porter_stem = PorterStemmer()\n",
    "corpus = []"
   ]
  },
  {
   "cell_type": "code",
   "execution_count": 35,
   "metadata": {},
   "outputs": [],
   "source": [
    "for i in range(0, len(msg)):\n",
    "    rvw = re.sub('[^a-zA-z]', ' ', msg['title'][i])\n",
    "    rvw = rvw.lower()\n",
    "    rvw = rvw.split()\n",
    "    rvw = [porter_stem.stem(word) for word in rvw if not word in stopwords.words('english')]\n",
    "    rvw = ' '.join(rvw)\n",
    "    corpus.append(rvw)"
   ]
  },
  {
   "cell_type": "code",
   "execution_count": 37,
   "metadata": {},
   "outputs": [],
   "source": [
    "#One Hot Encoding\n",
    "onehot = [one_hot(words, vocab_size) for words in corpus]"
   ]
  },
  {
   "cell_type": "code",
   "execution_count": 40,
   "metadata": {},
   "outputs": [
    {
     "data": {
      "text/plain": [
       "18285"
      ]
     },
     "execution_count": 40,
     "metadata": {},
     "output_type": "execute_result"
    }
   ],
   "source": [
    "#Padding the onehot length because embedding layer requires sentences of equal length\n",
    "sentence_length = 20\n",
    "embed_doc = pad_sequences(onehot, padding = 'pre', maxlen = sentence_length)\n",
    "len(embed_doc)"
   ]
  },
  {
   "cell_type": "code",
   "execution_count": 56,
   "metadata": {},
   "outputs": [
    {
     "name": "stdout",
     "output_type": "stream",
     "text": [
      "WARNING:tensorflow:From /usr/local/lib/python3.6/dist-packages/tensorflow/python/keras/layers/core.py:143: calling dropout (from tensorflow.python.ops.nn_ops) with keep_prob is deprecated and will be removed in a future version.\n",
      "Instructions for updating:\n",
      "Please use `rate` instead of `keep_prob`. Rate should be set to `rate = 1 - keep_prob`.\n",
      "_________________________________________________________________\n",
      "Layer (type)                 Output Shape              Param #   \n",
      "=================================================================\n",
      "embedding_3 (Embedding)      (None, 20, 25)            125000    \n",
      "_________________________________________________________________\n",
      "dropout (Dropout)            (None, 20, 25)            0         \n",
      "_________________________________________________________________\n",
      "lstm_3 (LSTM)                (None, 100)               50400     \n",
      "_________________________________________________________________\n",
      "dropout_1 (Dropout)          (None, 100)               0         \n",
      "_________________________________________________________________\n",
      "dense_3 (Dense)              (None, 1)                 101       \n",
      "=================================================================\n",
      "Total params: 175,501\n",
      "Trainable params: 175,501\n",
      "Non-trainable params: 0\n",
      "_________________________________________________________________\n",
      "None\n"
     ]
    }
   ],
   "source": [
    "#Creating the model\n",
    "embedding_vec_features = 25\n",
    "model = Sequential()\n",
    "model.add(Embedding(vocab_size, embedding_vec_features, input_length = sentence_length))\n",
    "model.add(Dropout(0.5))\n",
    "model.add(LSTM(100))\n",
    "model.add(Dropout(0.5))\n",
    "#Dense layer with sigmoid activation because this is a classification problem and we need 1 output\n",
    "model.add(Dense(1, activation = 'sigmoid'))\n",
    "model.compile(loss = 'binary_crossentropy', optimizer = 'adam', metrics = ['accuracy'])\n",
    "print(model.summary())"
   ]
  },
  {
   "cell_type": "code",
   "execution_count": 57,
   "metadata": {},
   "outputs": [
    {
     "name": "stdout",
     "output_type": "stream",
     "text": [
      "(18285, 20) (18285,)\n"
     ]
    }
   ],
   "source": [
    "import numpy as np\n",
    "x_final = np.array(embed_doc)\n",
    "y_final = np.array(y)\n",
    "print(x_final.shape, y_final.shape)"
   ]
  },
  {
   "cell_type": "code",
   "execution_count": 58,
   "metadata": {},
   "outputs": [],
   "source": [
    "from sklearn.model_selection import train_test_split\n",
    "x_train, x_val, y_train, y_val = train_test_split(x_final, y_final, test_size = 0.3, random_state = 42)"
   ]
  },
  {
   "cell_type": "code",
   "execution_count": 65,
   "metadata": {},
   "outputs": [
    {
     "name": "stdout",
     "output_type": "stream",
     "text": [
      "Train on 12799 samples, validate on 5486 samples\n",
      "Epoch 1/10\n",
      "12799/12799 [==============================] - 8s 612us/sample - loss: 0.0485 - acc: 0.9827 - val_loss: 0.3364 - val_acc: 0.9171\n",
      "Epoch 2/10\n",
      "12799/12799 [==============================] - 8s 616us/sample - loss: 0.0397 - acc: 0.9864 - val_loss: 0.3712 - val_acc: 0.9134\n",
      "Epoch 3/10\n",
      "12799/12799 [==============================] - 8s 609us/sample - loss: 0.0392 - acc: 0.9848 - val_loss: 0.3337 - val_acc: 0.9112\n",
      "Epoch 4/10\n",
      "12799/12799 [==============================] - 8s 616us/sample - loss: 0.0336 - acc: 0.9884 - val_loss: 0.3293 - val_acc: 0.9058\n",
      "Epoch 5/10\n",
      "12799/12799 [==============================] - 8s 618us/sample - loss: 0.0367 - acc: 0.9876 - val_loss: 0.3554 - val_acc: 0.9085\n",
      "Epoch 6/10\n",
      "12799/12799 [==============================] - 8s 627us/sample - loss: 0.0296 - acc: 0.9891 - val_loss: 0.4069 - val_acc: 0.9098\n",
      "Epoch 7/10\n",
      "12799/12799 [==============================] - 8s 626us/sample - loss: 0.0283 - acc: 0.9901 - val_loss: 0.4193 - val_acc: 0.9110\n",
      "Epoch 8/10\n",
      "12799/12799 [==============================] - 8s 621us/sample - loss: 0.0248 - acc: 0.9923 - val_loss: 0.3946 - val_acc: 0.9059\n",
      "Epoch 9/10\n",
      "12799/12799 [==============================] - 8s 624us/sample - loss: 0.0255 - acc: 0.9915 - val_loss: 0.4100 - val_acc: 0.9023\n",
      "Epoch 10/10\n",
      "12799/12799 [==============================] - 8s 617us/sample - loss: 0.0274 - acc: 0.9898 - val_loss: 0.4222 - val_acc: 0.9023\n"
     ]
    }
   ],
   "source": [
    "#Training the Model\n",
    "history = model.fit(x_train, y_train, validation_data = (x_val, y_val), epochs = 10, batch_size = 64)"
   ]
  },
  {
   "cell_type": "code",
   "execution_count": 74,
   "metadata": {},
   "outputs": [],
   "source": [
    "y_pred = model.predict_classes(x_val)"
   ]
  },
  {
   "cell_type": "code",
   "execution_count": 75,
   "metadata": {},
   "outputs": [
    {
     "data": {
      "text/plain": [
       "array([[2873,  234],\n",
       "       [ 302, 2077]])"
      ]
     },
     "execution_count": 75,
     "metadata": {},
     "output_type": "execute_result"
    }
   ],
   "source": [
    "from sklearn.metrics import confusion_matrix\n",
    "confusion_matrix(y_val, y_pred)"
   ]
  },
  {
   "cell_type": "code",
   "execution_count": 76,
   "metadata": {},
   "outputs": [
    {
     "data": {
      "text/plain": [
       "0.9022967553773241"
      ]
     },
     "execution_count": 76,
     "metadata": {},
     "output_type": "execute_result"
    }
   ],
   "source": [
    "from sklearn.metrics import accuracy_score\n",
    "accuracy_score(y_val, y_pred)"
   ]
  },
  {
   "cell_type": "code",
   "execution_count": 77,
   "metadata": {},
   "outputs": [],
   "source": [
    "import matplotlib.pyplot as plt"
   ]
  },
  {
   "cell_type": "code",
   "execution_count": 78,
   "metadata": {},
   "outputs": [
    {
     "data": {
      "image/png": "[encoded data removed]",
      "text/plain": [
       "<Figure size 1080x504 with 2 Axes>"
      ]
     },
     "metadata": {
      "needs_background": "light"
     },
     "output_type": "display_data"
    }
   ],
   "source": [
    "plt.figure(figsize=(15,7))\n",
    "ax1 = plt.subplot(1,2,1)\n",
    "ax1.plot(history.history['loss'], color='b', label='Training Loss') \n",
    "ax1.plot(history.history['val_loss'], color='r', label = 'Validation Loss',axes=ax1)\n",
    "legend = ax1.legend(loc='best', shadow=True)\n",
    "ax2 = plt.subplot(1,2,2)\n",
    "ax2.plot(history.history['acc'], color='b', label='Training Accuracy') \n",
    "ax2.plot(history.history['val_acc'], color='r', label = 'Validation Accuracy')\n",
    "legend = ax2.legend(loc='best', shadow=True)"
   ]
  },
  {
   "cell_type": "code",
   "execution_count": 106,
   "metadata": {},
   "outputs": [],
   "source": [
    "def test(X):\n",
    "    X = X.fillna(0)\n",
    "    messages = X.copy()\n",
    "    messages.reset_index(inplace=True)\n",
    "    testcorpus=[]\n",
    "    \n",
    "    for i in range(len(messages)):\n",
    "        reviews=re.sub('[^a-zA-Z]',' ',str(messages['title'][i]))\n",
    "        reviews=reviews.lower()\n",
    "        reviews=reviews.split()\n",
    "        reviews=[porter_stem.stem(word) for word in reviews if word not in stopwords.words('english')]\n",
    "        reviews=' '.join(reviews)\n",
    "        testcorpus.append(reviews)\n",
    "    one_hot_rep=[one_hot(word,vocab_size)for word in testcorpus]\n",
    "    embedded_docs = pad_sequences(one_hot_rep, padding = 'pre', maxlen = sentence_length)\n",
    "    X_final = np.array(embedded_docs)\n",
    "    \n",
    "    return X_final"
   ]
  },
  {
   "cell_type": "code",
   "execution_count": 107,
   "metadata": {},
   "outputs": [],
   "source": [
    "test_data = pd.read_csv('test.csv')\n",
    "test_final = test(test_data)"
   ]
  },
  {
   "cell_type": "code",
   "execution_count": 108,
   "metadata": {},
   "outputs": [
    {
     "data": {
      "text/plain": [
       "(5200, 1)"
      ]
     },
     "execution_count": 108,
     "metadata": {},
     "output_type": "execute_result"
    }
   ],
   "source": [
    "test_pred = model.predict(test_final)\n",
    "test_pred.shape"
   ]
  },
  {
   "cell_type": "code",
   "execution_count": 109,
   "metadata": {},
   "outputs": [],
   "source": [
    "submission_data = pd.read_csv('submit.csv')\n",
    "submission_data['label']=np.round(test_pred).astype('int')\n",
    "submission_data.to_csv('Submission.csv',index=False)"
   ]
  }
 ],
 "metadata": {
  "kernelspec": {
   "display_name": "Python 3",
   "language": "python",
   "name": "python3"
  },
  "language_info": {
   "codemirror_mode": {
    "name": "ipython",
    "version": 3
   },
   "file_extension": ".py",
   "mimetype": "text/x-python",
   "name": "python",
   "nbconvert_exporter": "python",
   "pygments_lexer": "ipython3",
   "version": "3.6.9"
  }
 },
 "nbformat": 4,
 "nbformat_minor": 4
}
